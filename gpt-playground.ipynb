{
 "cells": [
  {
   "cell_type": "code",
   "execution_count": 1,
   "metadata": {},
   "outputs": [],
   "source": [
    "import openai\n",
    "import os\n",
    "openai.api_key = os.getenv(\"OPENAI_API_KEY\")"
   ]
  },
  {
   "cell_type": "code",
   "execution_count": 57,
   "metadata": {},
   "outputs": [],
   "source": [
    "# write a prompt for chatgpt to generate robot commands from a human command\n",
    "\n",
    "prompt = \"\"\"\n",
    "Provide a sequence of steps a robot would need to take to complete the task. \n",
    "The robot does not have any prior knowledge of the task. \n",
    "The robot can only perform the following actions: move forward, move backward, turn left, turn right, pick up an object, and put down an object.\n",
    "The robot has a camera that can see the objects in its immediate vicinity.\n",
    "The robot has four legs and an arm. \n",
    "The robot can only see the objects in its immediate vicinity.\n",
    "Human: Kick a soccer ball.\n",
    "Steps:\n",
    "1. Locate the ball\n",
    "2. Move to the ball\n",
    "3. Position the foot next to the ball\n",
    "4. Swing the leg back\n",
    "5. Swing the leg forward to hit the ball\n",
    "\n",
    "Human: Turn on the lights\n",
    "\"\"\"\n",
    "res = openai.Completion.create(\n",
    "    model=\"text-davinci-003\",\n",
    "    prompt=prompt,\n",
    "    n=5,\n",
    "    temperature=1,\n",
    "    max_tokens=200\n",
    ")"
   ]
  },
  {
   "cell_type": "code",
   "execution_count": 58,
   "metadata": {},
   "outputs": [
    {
     "name": "stdout",
     "output_type": "stream",
     "text": [
      "Steps:\n",
      "1. Scan the room to locate the light switch\n",
      "2. Move to the light switch\n",
      "3. Position the arm next to the light switch\n",
      "4. Flip the switch to turn on the light\n",
      "Steps:\n",
      "1. Locate the light switch\n",
      "2. Move to the light switch\n",
      "3. Position the arm next to the light switch\n",
      "4. Turn the light switch on with the arm\n",
      "Steps: \n",
      "1. Locate and identify the light switch \n",
      "2. Position the arm next to the switch \n",
      "3. Extend the arm \n",
      "4. Push down the switch\n",
      "Steps:\n",
      "1. Locate the light switch\n",
      "2. Position the arm next to it\n",
      "3. Move the arm to flip the switch\n",
      "4. Verify that the lights have switched on\n",
      "\n",
      "Steps:\n",
      "1. Locate the switch\n",
      "2. Move towards it\n",
      "3. Use arm to reach the switch\n",
      "4. Push down to turn on the lights\n"
     ]
    },
    {
     "data": {
      "text/plain": [
       "[<OpenAIObject at 0x7fab2a0527f0> JSON: {\n",
       "   \"finish_reason\": \"stop\",\n",
       "   \"index\": 0,\n",
       "   \"logprobs\": null,\n",
       "   \"text\": \"Steps:\\n1. Scan the room to locate the light switch\\n2. Move to the light switch\\n3. Position the arm next to the light switch\\n4. Flip the switch to turn on the light\"\n",
       " },\n",
       " <OpenAIObject at 0x7fab2a4622f0> JSON: {\n",
       "   \"finish_reason\": \"stop\",\n",
       "   \"index\": 1,\n",
       "   \"logprobs\": null,\n",
       "   \"text\": \"Steps:\\n1. Locate the light switch\\n2. Move to the light switch\\n3. Position the arm next to the light switch\\n4. Turn the light switch on with the arm\"\n",
       " },\n",
       " <OpenAIObject at 0x7fab2a462070> JSON: {\n",
       "   \"finish_reason\": \"stop\",\n",
       "   \"index\": 2,\n",
       "   \"logprobs\": null,\n",
       "   \"text\": \"Steps: \\n1. Locate and identify the light switch \\n2. Position the arm next to the switch \\n3. Extend the arm \\n4. Push down the switch\"\n",
       " },\n",
       " <OpenAIObject at 0x7fab2a460220> JSON: {\n",
       "   \"finish_reason\": \"stop\",\n",
       "   \"index\": 3,\n",
       "   \"logprobs\": null,\n",
       "   \"text\": \"Steps:\\n1. Locate the light switch\\n2. Position the arm next to it\\n3. Move the arm to flip the switch\\n4. Verify that the lights have switched on\"\n",
       " },\n",
       " <OpenAIObject at 0x7fab2a4622a0> JSON: {\n",
       "   \"finish_reason\": \"stop\",\n",
       "   \"index\": 4,\n",
       "   \"logprobs\": null,\n",
       "   \"text\": \"\\nSteps:\\n1. Locate the switch\\n2. Move towards it\\n3. Use arm to reach the switch\\n4. Push down to turn on the lights\"\n",
       " }]"
      ]
     },
     "execution_count": 58,
     "metadata": {},
     "output_type": "execute_result"
    }
   ],
   "source": [
    "for c in res.choices:\n",
    "    print(c.text)\n",
    "res.choices"
   ]
  },
  {
   "cell_type": "code",
   "execution_count": 48,
   "metadata": {},
   "outputs": [],
   "source": [
    "nums = [int(c.text.split(\"\\n\")[-1]) for c in res.choices]"
   ]
  },
  {
   "cell_type": "code",
   "execution_count": 49,
   "metadata": {},
   "outputs": [
    {
     "data": {
      "text/plain": [
       "[8,\n",
       " 7,\n",
       " 5,\n",
       " 7,\n",
       " 7,\n",
       " 7,\n",
       " 6,\n",
       " 2,\n",
       " 3,\n",
       " 7,\n",
       " 5,\n",
       " 5,\n",
       " 8,\n",
       " 8,\n",
       " 7,\n",
       " 3,\n",
       " 7,\n",
       " 3,\n",
       " 6,\n",
       " 7,\n",
       " 7,\n",
       " 7,\n",
       " 6,\n",
       " 6,\n",
       " 3,\n",
       " 2,\n",
       " 5,\n",
       " 5,\n",
       " 6,\n",
       " 6,\n",
       " 3,\n",
       " 5,\n",
       " 6,\n",
       " 5,\n",
       " 7,\n",
       " 5,\n",
       " 7,\n",
       " 5,\n",
       " 7,\n",
       " 7,\n",
       " 3,\n",
       " 2,\n",
       " 7,\n",
       " 5,\n",
       " 4,\n",
       " 2,\n",
       " 2,\n",
       " 6,\n",
       " 7,\n",
       " 3,\n",
       " 7,\n",
       " 7,\n",
       " 3,\n",
       " 7,\n",
       " 7,\n",
       " 5,\n",
       " 5,\n",
       " 4,\n",
       " 4,\n",
       " 7,\n",
       " 6,\n",
       " 8,\n",
       " 7,\n",
       " 5,\n",
       " 3,\n",
       " 4,\n",
       " 4,\n",
       " 5,\n",
       " 7,\n",
       " 6,\n",
       " 7,\n",
       " 8,\n",
       " 7,\n",
       " 7,\n",
       " 3,\n",
       " 4,\n",
       " 6,\n",
       " 7,\n",
       " 5,\n",
       " 7,\n",
       " 4,\n",
       " 7,\n",
       " 3,\n",
       " 5,\n",
       " 6,\n",
       " 6,\n",
       " 9,\n",
       " 7,\n",
       " 9,\n",
       " 3,\n",
       " 3,\n",
       " 7,\n",
       " 3,\n",
       " 8,\n",
       " 3,\n",
       " 9,\n",
       " 7,\n",
       " 4,\n",
       " 6,\n",
       " 8,\n",
       " 8,\n",
       " 5,\n",
       " 6,\n",
       " 7,\n",
       " 7,\n",
       " 3,\n",
       " 7,\n",
       " 4,\n",
       " 5,\n",
       " 5,\n",
       " 7,\n",
       " 3,\n",
       " 7,\n",
       " 6,\n",
       " 6,\n",
       " 4,\n",
       " 7,\n",
       " 5,\n",
       " 5,\n",
       " 7,\n",
       " 7,\n",
       " 7,\n",
       " 3,\n",
       " 5,\n",
       " 7,\n",
       " 8,\n",
       " 3,\n",
       " 3]"
      ]
     },
     "execution_count": 49,
     "metadata": {},
     "output_type": "execute_result"
    }
   ],
   "source": [
    "nums"
   ]
  },
  {
   "cell_type": "code",
   "execution_count": 50,
   "metadata": {},
   "outputs": [
    {
     "data": {
      "text/plain": [
       "(array([ 5., 20., 10.,  0., 22., 17.,  0., 42.,  9.,  3.]),\n",
       " array([2. , 2.7, 3.4, 4.1, 4.8, 5.5, 6.2, 6.9, 7.6, 8.3, 9. ]),\n",
       " <BarContainer object of 10 artists>)"
      ]
     },
     "execution_count": 50,
     "metadata": {},
     "output_type": "execute_result"
    },
    {
     "data": {
      "image/png": "[encoded data removed]",
      "text/plain": [
       "<Figure size 640x480 with 1 Axes>"
      ]
     },
     "metadata": {},
     "output_type": "display_data"
    }
   ],
   "source": [
    "import matplotlib.pyplot as plt\n",
    "plt.hist(nums, bins=10)"
   ]
  },
  {
   "cell_type": "code",
   "execution_count": null,
   "metadata": {},
   "outputs": [],
   "source": []
  },
  {
   "cell_type": "code",
   "execution_count": null,
   "metadata": {},
   "outputs": [],
   "source": []
  }
 ],
 "metadata": {
  "kernelspec": {
   "display_name": "robo",
   "language": "python",
   "name": "python3"
  },
  "language_info": {
   "codemirror_mode": {
    "name": "ipython",
    "version": 3
   },
   "file_extension": ".py",
   "mimetype": "text/x-python",
   "name": "python",
   "nbconvert_exporter": "python",
   "pygments_lexer": "ipython3",
   "version": "3.10.9"
  },
  "orig_nbformat": 4
 },
 "nbformat": 4,
 "nbformat_minor": 2
}
