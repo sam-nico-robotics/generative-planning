{
 "cells": [
  {
   "cell_type": "code",
   "execution_count": 36,
   "metadata": {},
   "outputs": [],
   "source": [
    "import openai\n",
    "import numpy as np\n",
    "import json\n",
    "import os\n",
    "from typing import List\n",
    "\n",
    "OPENAI_KEY = os.getenv(\"OPENAI_API_KEY\")\n",
    "openai.api_key = OPENAI_KEY"
   ]
  },
  {
   "cell_type": "code",
   "execution_count": 37,
   "metadata": {},
   "outputs": [
    {
     "data": {
      "text/plain": [
       "['move to <object>',\n",
       " 'pick up <object>',\n",
       " 'put down <object>',\n",
       " 'put <object> on <object>']"
      ]
     },
     "execution_count": 37,
     "metadata": {},
     "output_type": "execute_result"
    }
   ],
   "source": [
    "# with open(\"objects.txt\") as f:\n",
    "#     objects = [line.rstrip() for line in f]\n",
    "\n",
    "with open(\"actions.txt\") as f:\n",
    "    actions = [line.rstrip() for line in f]\n",
    "\n",
    "# 1. given the task, figure out what kinds of objects we might need with LLM\n",
    "# 2. see if we have every object in sight (or see how similar our objects are)\n",
    "# 3. tell LLM our limitations (if any)\n",
    "# 4. ask for instructions given the exact objects we have \n",
    "actions"
   ]
  },
  {
   "cell_type": "code",
   "execution_count": 38,
   "metadata": {},
   "outputs": [],
   "source": [
    "# given a task, returns the objects and their imporances needed for a specific task\n",
    "def get_objects_needed(task):\n",
    "    if not task:\n",
    "        return []\n",
    "    \n",
    "    def run_query():\n",
    "        chat_lm_id = \"gpt-3.5-turbo\"\n",
    "        # translation_lm_id = \"text-embedding-ada-002\"\n",
    "        system_message = \"\"\"\n",
    "        You are a large language model tasked with planning a robot's actions.\n",
    "        \"\"\"\n",
    "        def command(sample_task):\n",
    "            return f\"\"\"\n",
    "            list all objects/agents i might need to interact with to perform the task '{sample_task}'? \n",
    "            only list necessary objects/agents, as few as possible, even 1 object is possible.\n",
    "            write each object in as few words as possible with no ambiguity. list each object in as few words as possible. \n",
    "            next to each object give a score from 1 to 10 scoring its importance for the given task in the format [<object>:<score>,<object>:<score>, etc.]\n",
    "            \"\"\"\n",
    "        original_messages=[\n",
    "            {\"role\": \"system\", \"content\": system_message},\n",
    "            {\"role\": \"user\", \"content\": command(\"take out the trash\")},\n",
    "            {\"role\": \"assistant\", \"content\": \"\"\"trash can:10,trash bag:6,dumpster:8,\"\"\"},\n",
    "            {\"role\": \"user\", \"content\": command(\"do the dishes\")},\n",
    "            {\"role\": \"assistant\", \"content\": \"\"\"dishes:10,sink:10,soap:9,sponge:5,drying rack:2\"\"\"},\n",
    "            {\"role\": \"user\", \"content\": command(task)},\n",
    "        ]\n",
    "        res = openai.ChatCompletion.create(\n",
    "            model=chat_lm_id,\n",
    "            messages=original_messages,\n",
    "            temperature=0.8\n",
    "        )\n",
    "        # print(res)\n",
    "        objects = res[\"choices\"][0][\"message\"][\"content\"]\n",
    "        objs_with_importance = []\n",
    "        for obj_with_score in objects.split(\",\"):\n",
    "            splitted = obj_with_score.split(\":\")\n",
    "            try:\n",
    "                objs_with_importance.append((splitted[0].lstrip(\" \"), int(splitted[1])))\n",
    "            except:\n",
    "                raise ValueError(f\"improper format: {obj_with_score}\")\n",
    "            \n",
    "        return objs_with_importance\n",
    "    \n",
    "    for _ in range(10):\n",
    "        try:\n",
    "            return run_query()\n",
    "        except ValueError:\n",
    "            continue\n",
    "    \n",
    "    return []"
   ]
  },
  {
   "cell_type": "code",
   "execution_count": 39,
   "metadata": {},
   "outputs": [
    {
     "data": {
      "text/plain": [
       "[('dishes', 10), ('sink', 10), ('soap', 9), ('sponge', 5), ('drying rack', 2)]"
      ]
     },
     "execution_count": 39,
     "metadata": {},
     "output_type": "execute_result"
    }
   ],
   "source": [
    "get_objects_needed(\"do the dishes\")"
   ]
  },
  {
   "cell_type": "code",
   "execution_count": 46,
   "metadata": {},
   "outputs": [],
   "source": [
    "# given a task and a list of relevant objects that a robot has identified, give a task plan\n",
    "def get_steps_from_objects(task: str, objects: List[str]) -> List[str]:\n",
    "    if not objects:\n",
    "        return []\n",
    "    \n",
    "    def run_query():\n",
    "        chat_lm_id = \"gpt-3.5-turbo\"\n",
    "        # translation_lm_id = \"text-embedding-ada-002\"\n",
    "        system_message = \"\"\"\n",
    "        You are a large language model tasked with planning a robot's actions.\n",
    "        \"\"\"\n",
    "        def command(sample_task, sample_objects):\n",
    "            return f\"\"\"\n",
    "            List the steps I must take to perform the task '{sample_task}'? \n",
    "            I can only interact with the following objects: {\", \".join(sample_objects)}.\n",
    "            The actions I can perform are: {\", \".join(actions)}\n",
    "            Only use the actions and substitute the appropriate object in <object>\n",
    "            Write each step in as few words as possible with little ambiguity\n",
    "            \"\"\"\n",
    "        original_messages=[\n",
    "            {\"role\": \"system\", \"content\": system_message},\n",
    "            {\"role\": \"user\", \"content\": command(\"take out the trash\", [\"trash can\", \"trash bag\", \"dumpster\"])},\n",
    "            {\"role\": \"assistant\", \"content\": \"\"\"\n",
    "            1. move to trash can\n",
    "            2. pick up trash bag\n",
    "            3. move to dumpster\n",
    "            4. put down trash bag\"\"\"},\n",
    "            {\"role\": \"user\", \"content\": command(task, objects)}\n",
    "        ]\n",
    "        res = openai.ChatCompletion.create(\n",
    "            model=chat_lm_id,\n",
    "            messages=original_messages,\n",
    "            temperature=0.8\n",
    "        )\n",
    "        # print(res)\n",
    "        return res\n",
    "        \n",
    "    return run_query()"
   ]
  },
  {
   "cell_type": "code",
   "execution_count": 48,
   "metadata": {},
   "outputs": [
    {
     "data": {
      "text/plain": [
       "'            1. move to sink\\n            2. pick up dishes\\n            3. put dishes in sink\\n            4. put sponge on dishes\\n            5. turn on water\\n            6. wash dishes with sponge\\n            7. turn off water\\n            8. pick up dishes\\n            9. put dishes in drying rack'"
      ]
     },
     "execution_count": 48,
     "metadata": {},
     "output_type": "execute_result"
    }
   ],
   "source": [
    "res = get_steps_from_objects(\"do the dishes\", [\"sink\", \"dishes\", \"sponge\", \"drying rack\"])\n",
    "res[\"choices\"][0][\"message\"][\"content\"]"
   ]
  },
  {
   "attachments": {},
   "cell_type": "markdown",
   "metadata": {},
   "source": [
    "Now we have the objects we need, our next task is to see if we see similar objects. we can find the objects in the scene and compare these text embeddings to the objects we have. \n",
    "\n",
    "If we see all the objects (similar beyond a threshold), we ask the model to generate a plan with these specific objects. \n",
    "\n",
    "Otherwise, we tell the model what we can't find and see if we can still perform the task. "
   ]
  },
  {
   "cell_type": "code",
   "execution_count": 11,
   "metadata": {},
   "outputs": [],
   "source": [
    "# original_messages.append(res_message.to_dict())\n",
    "# original_messages.append({\n",
    "#     \"role\": \"user\",\n",
    "#     \"content\": \"Where can I find the trash can. I am currently in the bathroom.\"\n",
    "# })"
   ]
  },
  {
   "cell_type": "code",
   "execution_count": 6,
   "metadata": {},
   "outputs": [],
   "source": [
    "# res2 = openai.ChatCompletion.create(\n",
    "#     model=chat_lm_id,\n",
    "#     messages=original_messages\n",
    "# )"
   ]
  }
 ],
 "metadata": {
  "kernelspec": {
   "display_name": "robo",
   "language": "python",
   "name": "python3"
  },
  "language_info": {
   "codemirror_mode": {
    "name": "ipython",
    "version": 3
   },
   "file_extension": ".py",
   "mimetype": "text/x-python",
   "name": "python",
   "nbconvert_exporter": "python",
   "pygments_lexer": "ipython3",
   "version": "3.10.9"
  },
  "orig_nbformat": 4,
  "vscode": {
   "interpreter": {
    "hash": "2db547b6487defdb6942351c85a36a72a86c4b82b1aeea55af36ee5c65239abc"
   }
  }
 },
 "nbformat": 4,
 "nbformat_minor": 2
}
