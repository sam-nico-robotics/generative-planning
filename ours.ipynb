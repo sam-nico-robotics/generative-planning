{
 "cells": [
  {
   "cell_type": "code",
   "execution_count": 1,
   "metadata": {},
   "outputs": [],
   "source": [
    "import openai\n",
    "import numpy as np\n",
    "import json\n",
    "import os\n",
    "\n",
    "OPENAI_KEY = os.getenv(\"OPENAI_API_KEY\")\n",
    "openai.api_key = OPENAI_KEY"
   ]
  },
  {
   "cell_type": "code",
   "execution_count": 44,
   "metadata": {},
   "outputs": [],
   "source": [
    "chat_lm_id = \"gpt-3.5-turbo\"\n",
    "translation_lm_id = \"text-embedding-ada-002\"\n",
    "system_message=\"\"\"\n",
    "You are a large language model for planning a robot's movements to achieve a given task. \n",
    "The user will provide you with a task and you will instruct the user (a robot) to perform the task.\n",
    "The robot may move to an object, pick it up, or place it in a new location.\n",
    "The robot may also move to a location, and place an object there.\n",
    "Give a command in the form of \"move to <object> and pick up <object> and place it in <location>\".\n",
    "\"\"\"\n",
    "original_messages = [\n",
    "    {\"role\": \"system\", \"content\": system_message},\n",
    "    {\"role\": \"user\", \"content\": \"Take out the trash.\"},\n",
    "    {\"role\": \"assistant\", \"content\": \"\"\"\n",
    "    1. Move to the trash can\n",
    "    2. Pick up the trash\n",
    "    3. Move to the dumpster\n",
    "    4. Place the trash in the dumpster\n",
    "    \"\"\"},\n",
    "    {\"role\": \"user\", \"content\": \"Make a cup of cofee.\"},\n",
    "]"
   ]
  },
  {
   "cell_type": "code",
   "execution_count": 45,
   "metadata": {},
   "outputs": [],
   "source": [
    "res = openai.ChatCompletion.create(\n",
    "    model=chat_lm_id,\n",
    "    messages=original_messages\n",
    ")"
   ]
  },
  {
   "cell_type": "code",
   "execution_count": 46,
   "metadata": {},
   "outputs": [],
   "source": [
    "res_message = res[\"choices\"][0][\"message\"]"
   ]
  },
  {
   "cell_type": "code",
   "execution_count": 50,
   "metadata": {},
   "outputs": [],
   "source": [
    "original_messages.append(res_message.to_dict())\n",
    "original_messages.append({\n",
    "    \"role\": \"user\",\n",
    "    \"content\": \"Where can i find the trash can. I am currently in the bathroom.\"\n",
    "})"
   ]
  },
  {
   "cell_type": "code",
   "execution_count": 51,
   "metadata": {},
   "outputs": [],
   "source": [
    "res2 = openai.ChatCompletion.create(\n",
    "    model=chat_lm_id,\n",
    "    messages=original_messages\n",
    ")"
   ]
  },
  {
   "cell_type": "code",
   "execution_count": 52,
   "metadata": {},
   "outputs": [
    {
     "data": {
      "text/plain": [
       "<OpenAIObject chat.completion id=chatcmpl-6u1JYYc63PTxVexfXPoAR2M312RFm at 0x7fb33416d2b0> JSON: {\n",
       "  \"choices\": [\n",
       "    {\n",
       "      \"finish_reason\": \"stop\",\n",
       "      \"index\": 0,\n",
       "      \"message\": {\n",
       "        \"content\": \"I apologize for not understanding your question earlier. Here are the instructions to help you locate the trash can:\\n\\n    1. Look around the bathroom to see if there is a trash can visible.\\n    2. If you cannot locate the trash can, try checking other rooms in your house as you may have a separate trash can located in another room.\\n    3. If you still cannot locate the trash can, ask someone else in your home for assistance in finding it.\\n    4. Once you have located the trash can, you can dispose of your waste and follow the previous instructions I gave you to take out the trash.\",\n",
       "        \"role\": \"assistant\"\n",
       "      }\n",
       "    }\n",
       "  ],\n",
       "  \"created\": 1678809440,\n",
       "  \"id\": \"chatcmpl-6u1JYYc63PTxVexfXPoAR2M312RFm\",\n",
       "  \"model\": \"gpt-3.5-turbo-0301\",\n",
       "  \"object\": \"chat.completion\",\n",
       "  \"usage\": {\n",
       "    \"completion_tokens\": 130,\n",
       "    \"prompt_tokens\": 604,\n",
       "    \"total_tokens\": 734\n",
       "  }\n",
       "}"
      ]
     },
     "execution_count": 52,
     "metadata": {},
     "output_type": "execute_result"
    }
   ],
   "source": [
    "res2"
   ]
  },
  {
   "cell_type": "code",
   "execution_count": 38,
   "metadata": {},
   "outputs": [
    {
     "ename": "ValueError",
     "evalue": "dictionary update sequence element #0 has length 1; 2 is required",
     "output_type": "error",
     "traceback": [
      "\u001b[0;31m---------------------------------------------------------------------------\u001b[0m",
      "\u001b[0;31mValueError\u001b[0m                                Traceback (most recent call last)",
      "Cell \u001b[0;32mIn[38], line 1\u001b[0m\n\u001b[0;32m----> 1\u001b[0m om\u001b[39m.\u001b[39;49mupdate(\u001b[39m\"\u001b[39;49m\u001b[39mhello\u001b[39;49m\u001b[39m\"\u001b[39;49m)\n",
      "\u001b[0;31mValueError\u001b[0m: dictionary update sequence element #0 has length 1; 2 is required"
     ]
    }
   ],
   "source": [
    "om.update(\"hello\")"
   ]
  },
  {
   "cell_type": "code",
   "execution_count": null,
   "metadata": {},
   "outputs": [],
   "source": []
  }
 ],
 "metadata": {
  "kernelspec": {
   "display_name": "robo",
   "language": "python",
   "name": "python3"
  },
  "language_info": {
   "codemirror_mode": {
    "name": "ipython",
    "version": 3
   },
   "file_extension": ".py",
   "mimetype": "text/x-python",
   "name": "python",
   "nbconvert_exporter": "python",
   "pygments_lexer": "ipython3",
   "version": "3.10.9"
  },
  "orig_nbformat": 4
 },
 "nbformat": 4,
 "nbformat_minor": 2
}
