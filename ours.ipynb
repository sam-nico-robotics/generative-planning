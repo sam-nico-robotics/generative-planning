{
 "cells": [
  {
   "cell_type": "code",
   "execution_count": 9,
   "metadata": {},
   "outputs": [],
   "source": [
    "import openai\n",
    "import numpy as np\n",
    "import json\n",
    "import os\n",
    "\n",
    "OPENAI_KEY = os.getenv(\"OPENAI_API_KEY\")\n",
    "openai.api_key = OPENAI_KEY"
   ]
  },
  {
   "cell_type": "code",
   "execution_count": 10,
   "metadata": {},
   "outputs": [],
   "source": [
    "# with open(\"objects.txt\") as f:\n",
    "#     objects = [line.rstrip() for line in f]\n",
    "\n",
    "# with open(\"actions.txt\") as f:\n",
    "#     actions = [line.rstrip() for line in f]\n",
    "\n",
    "# 1. given the task, figure out what kinds of objects we might need with LLM\n",
    "# 2. see if we have every object in sight (or see how similar our objects are)\n",
    "# 3. tell LLM our limitations (if any)\n",
    "# 4. ask for instructions given the exact objects we have "
   ]
  },
  {
   "cell_type": "code",
   "execution_count": 104,
   "metadata": {},
   "outputs": [],
   "source": [
    "# given a task, returns the objects and their imporances needed for a specific task\n",
    "def get_objects_needed(task):\n",
    "    chat_lm_id = \"gpt-3.5-turbo\"\n",
    "    # translation_lm_id = \"text-embedding-ada-002\"\n",
    "    system_message = \"\"\"\n",
    "    You are a large language model tasked with planning a robot's actions.\n",
    "    \"\"\"\n",
    "    def command(sample_task):\n",
    "        return f\"\"\"\n",
    "        list all objects i might need to interact with to perform the task '{sample_task}'? \n",
    "        write each object in as few words as possible with no ambiguity. list each object in as few words as possible. \n",
    "        next to each object give a score from 1 to 10 scoring its importance for the given task in the format [<object>:<score>,<object>:<score>, etc.]\n",
    "        \"\"\"\n",
    "    original_messages=[\n",
    "    {\"role\": \"system\", \"content\": system_message},\n",
    "        {\"role\": \"user\", \"content\": command(\"take out the trash\")},\n",
    "        {\"role\": \"assistant\", \"content\": \"\"\"trash can:10,trash bag:6,dumpster:8,\"\"\"},\n",
    "        {\"role\": \"user\", \"content\": command(\"do the dishes\")},\n",
    "        {\"role\": \"assistant\", \"content\": \"\"\"dishes:10,sink:10,soap:9,sponge:5,drying rack:2\"\"\"},\n",
    "        {\"role\": \"user\", \"content\": command(task)},\n",
    "    ]\n",
    "    res = openai.ChatCompletion.create(\n",
    "        model=chat_lm_id,\n",
    "        messages=original_messages,\n",
    "        temperature=1.5\n",
    "    )\n",
    "    # print(res)\n",
    "    objects = res[\"choices\"][0][\"message\"][\"content\"]\n",
    "    objs_with_importance = []\n",
    "    for obj_with_score in objects.split(\",\"):\n",
    "        splitted = obj_with_score.split(\":\")\n",
    "        try:\n",
    "            objs_with_importance.append((splitted[0].lstrip(\" \"), int(splitted[1])))\n",
    "        except:\n",
    "            raise ValueError(f\"improper format: {obj_with_score}\")\n",
    "        \n",
    "    return objs_with_importance"
   ]
  },
  {
   "cell_type": "code",
   "execution_count": 105,
   "metadata": {},
   "outputs": [
    {
     "data": {
      "text/plain": [
       "[('power switch', 10), ('light bulb', 8), ('lamp', 6), ('light switch', 10)]"
      ]
     },
     "execution_count": 105,
     "metadata": {},
     "output_type": "execute_result"
    }
   ],
   "source": [
    "get_objects_needed(\"turn on the lights\")"
   ]
  },
  {
   "cell_type": "code",
   "execution_count": 91,
   "metadata": {},
   "outputs": [],
   "source": [
    "chat_lm_id = \"gpt-3.5-turbo\"\n",
    "translation_lm_id = \"text-embedding-ada-002\"\n",
    "system_message=\"\"\"\n",
    "You are a large language model for planning a robot's movements to achieve a given task. \n",
    "The user will provide you with a task and you will instruct the user (a robot) to perform the task.\n",
    "The robot may move to an object, pick it up, or place it in a new location.\n",
    "The robot may also move to a location, and place an object there.\n",
    "Give a command in the form of \"move to <object> and pick up <object> and place it in <object>\".\n",
    "Objects: trash can, cup, table, trash, dumpster, table\n",
    "\"\"\"\n",
    "original_messages = [\n",
    "    {\"role\": \"system\", \"content\": system_message},\n",
    "    {\"role\": \"user\", \"content\": \"Take out the trash.\"},\n",
    "    {\"role\": \"assistant\", \"content\": \"\"\"\n",
    "    1. Move to the trash can\n",
    "    2. Pick up the trash\n",
    "    3. Move to the dumpster\n",
    "    4. Place the trash in the dumpster\n",
    "    \"\"\"},\n",
    "    {\"role\": \"user\", \"content\": \"You have 10 cups. Arrange them to form a circle. give step by step instructions for each cup\"},\n",
    "]"
   ]
  },
  {
   "cell_type": "code",
   "execution_count": 3,
   "metadata": {},
   "outputs": [],
   "source": [
    "res = openai.ChatCompletion.create(\n",
    "    model=chat_lm_id,\n",
    "    messages=original_messages,\n",
    "    temperature=1.5\n",
    ")"
   ]
  },
  {
   "cell_type": "markdown",
   "metadata": {},
   "source": []
  },
  {
   "cell_type": "code",
   "execution_count": 4,
   "metadata": {},
   "outputs": [
    {
     "data": {
      "text/plain": [
       "<OpenAIObject at 0x7fde29646700> JSON: {\n",
       "  \"content\": \"Sure, I'd be happy to help! Since all ten cups must be included to form a circle, you can arrange them in a circular arrangement in which the cups are placed equidistantly around a perfect circle.\\n\\nHere are the step by step instructions:\\n\\n1. Pick up cup #1 and place it in front of you at the center of the circle\\n2. Pick up cup #2 and place it to the left of cup #1.\\n3. Pick up cup #3 and place it to the left of cup #2.\\n4. Pick up cup #4, move past cups #3 and  draw left arm  fully extended without colliding with temporary growing formation without damaging pre-determined co-planarity Law then reach into middle of these opened-friendly-space to put in final placement and fix the end that the began has string source associated initial corner center placement.\\n5. Do the same extending your leg diagonal opposite tray he ever cup around ensures every cup if supported throughout this adjustment moves avoid destruct support last position planted use remaining limbs  cautiously since process ensuring no wrong movements seem likely expect precision akin parts implementing collaborative robotics algorithms. Here,\\n    * Draw diagonally reversed by modifying arm reach\\n    * Grab the temperate but initiated cup circle from an alternate axle bit tighter than pivoting one \\n    * Later, optimize conflicting because this connection remains dispersed mutually \\n    * Continuing to hold onto all container having consistent pitches remain liable conjunction\\n    reached\\n6. Upward refit less pre-mismatch incorporated mistake even during midpoint tilt inspection. Revisit away from range wersh APTTE position at time index during adapting periods has not elevated beyond saving restored somehow memory is evident stepping functioning forth futures ahead visualize frames within created formatting targeting arm rotation holding simultaneous progressive vorticity towards gripping medium scales.\\n\\nRepeat the steps from the second step and moving latusmittles accommodating every tooth available tight joining consistency validating it obated ratios unwinding genuine allotting pre-task not indicative too actual positioning as accurately envision counts iterative recurrent responsive encoding design-functions\",\n",
       "  \"role\": \"assistant\"\n",
       "}"
      ]
     },
     "execution_count": 4,
     "metadata": {},
     "output_type": "execute_result"
    }
   ],
   "source": [
    "res_message = res[\"choices\"][0][\"message\"]\n",
    "res_message"
   ]
  },
  {
   "cell_type": "code",
   "execution_count": 11,
   "metadata": {},
   "outputs": [],
   "source": [
    "original_messages.append(res_message.to_dict())\n",
    "original_messages.append({\n",
    "    \"role\": \"user\",\n",
    "    \"content\": \"Where can I find the trash can. I am currently in the bathroom.\"\n",
    "})"
   ]
  },
  {
   "cell_type": "code",
   "execution_count": 6,
   "metadata": {},
   "outputs": [],
   "source": [
    "res2 = openai.ChatCompletion.create(\n",
    "    model=chat_lm_id,\n",
    "    messages=original_messages\n",
    ")"
   ]
  },
  {
   "cell_type": "code",
   "execution_count": 7,
   "metadata": {},
   "outputs": [
    {
     "data": {
      "text/plain": [
       "<OpenAIObject chat.completion id=chatcmpl-71choifxgj1Hxhqy3DXmjeRNlZRhp at 0x7fa1ee388130> JSON: {\n",
       "  \"choices\": [\n",
       "    {\n",
       "      \"finish_reason\": \"stop\",\n",
       "      \"index\": 0,\n",
       "      \"message\": {\n",
       "        \"content\": \"Typically, a trash can is placed in different locations depending on the house or building. In most cases, the trash can is usually found in rooms such as the kitchen, living room or just about any common area in the house. However, some houses may also have small bins in each room, including the bathroom. \\nIf you are currently in the bathroom and you are looking for the trash can, I would suggest you look around for any bin or container in the bathroom. You may also consider asking someone you live with or check the house layout to find out where the trash cans are located in your house.\",\n",
       "        \"role\": \"assistant\"\n",
       "      }\n",
       "    }\n",
       "  ],\n",
       "  \"created\": 1680621468,\n",
       "  \"id\": \"chatcmpl-71choifxgj1Hxhqy3DXmjeRNlZRhp\",\n",
       "  \"model\": \"gpt-3.5-turbo-0301\",\n",
       "  \"object\": \"chat.completion\",\n",
       "  \"usage\": {\n",
       "    \"completion_tokens\": 123,\n",
       "    \"prompt_tokens\": 525,\n",
       "    \"total_tokens\": 648\n",
       "  }\n",
       "}"
      ]
     },
     "execution_count": 7,
     "metadata": {},
     "output_type": "execute_result"
    }
   ],
   "source": [
    "res2"
   ]
  },
  {
   "cell_type": "code",
   "execution_count": 38,
   "metadata": {},
   "outputs": [
    {
     "ename": "ValueError",
     "evalue": "dictionary update sequence element #0 has length 1; 2 is required",
     "output_type": "error",
     "traceback": [
      "\u001b[0;31m---------------------------------------------------------------------------\u001b[0m",
      "\u001b[0;31mValueError\u001b[0m                                Traceback (most recent call last)",
      "Cell \u001b[0;32mIn[38], line 1\u001b[0m\n\u001b[0;32m----> 1\u001b[0m om\u001b[39m.\u001b[39;49mupdate(\u001b[39m\"\u001b[39;49m\u001b[39mhello\u001b[39;49m\u001b[39m\"\u001b[39;49m)\n",
      "\u001b[0;31mValueError\u001b[0m: dictionary update sequence element #0 has length 1; 2 is required"
     ]
    }
   ],
   "source": [
    "om.update(\"hello\")"
   ]
  },
  {
   "cell_type": "code",
   "execution_count": null,
   "metadata": {},
   "outputs": [],
   "source": []
  }
 ],
 "metadata": {
  "kernelspec": {
   "display_name": "robo",
   "language": "python",
   "name": "python3"
  },
  "language_info": {
   "codemirror_mode": {
    "name": "ipython",
    "version": 3
   },
   "file_extension": ".py",
   "mimetype": "text/x-python",
   "name": "python",
   "nbconvert_exporter": "python",
   "pygments_lexer": "ipython3",
   "version": "3.10.9"
  },
  "orig_nbformat": 4,
  "vscode": {
   "interpreter": {
    "hash": "2db547b6487defdb6942351c85a36a72a86c4b82b1aeea55af36ee5c65239abc"
   }
  }
 },
 "nbformat": 4,
 "nbformat_minor": 2
}
