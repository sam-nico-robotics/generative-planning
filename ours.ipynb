{
 "cells": [
  {
   "cell_type": "code",
   "execution_count": 2,
   "metadata": {},
   "outputs": [],
   "source": [
    "import openai\n",
    "import numpy as np\n",
    "import json\n",
    "import os\n",
    "\n",
    "OPENAI_KEY = os.getenv(\"OPENAI_API_KEY\")\n",
    "openai.api_key = OPENAI_KEY"
   ]
  },
  {
   "cell_type": "code",
   "execution_count": 3,
   "metadata": {},
   "outputs": [],
   "source": [
    "# with open(\"objects.txt\") as f:\n",
    "#     objects = [line.rstrip() for line in f]\n",
    "\n",
    "# with open(\"actions.txt\") as f:\n",
    "#     actions = [line.rstrip() for line in f]\n",
    "\n",
    "# 1. given the task, figure out what kinds of objects we might need with LLM\n",
    "# 2. see if we have every object in sight (or see how similar our objects are)\n",
    "# 3. tell LLM our limitations (if any)\n",
    "# 4. ask for instructions given the exact objects we have "
   ]
  },
  {
   "cell_type": "code",
   "execution_count": 6,
   "metadata": {},
   "outputs": [],
   "source": [
    "# given a task, returns the objects and their imporances needed for a specific task\n",
    "def get_objects_needed(task):\n",
    "    if not task:\n",
    "        return []\n",
    "    \n",
    "    def run_query():\n",
    "        chat_lm_id = \"gpt-3.5-turbo\"\n",
    "        # translation_lm_id = \"text-embedding-ada-002\"\n",
    "        system_message = \"\"\"\n",
    "        You are a large language model tasked with planning a robot's actions.\n",
    "        \"\"\"\n",
    "        def command(sample_task):\n",
    "            return f\"\"\"\n",
    "            list all objects i might need to interact with to perform the task '{sample_task}'? \n",
    "            only list necessary objects, as few as possible, even 1 object is possible.\n",
    "            write each object in as few words as possible with no ambiguity. list each object in as few words as possible. \n",
    "            next to each object give a score from 1 to 10 scoring its importance for the given task in the format [<object>:<score>,<object>:<score>, etc.]\n",
    "            \"\"\"\n",
    "        original_messages=[\n",
    "        {\"role\": \"system\", \"content\": system_message},\n",
    "            {\"role\": \"user\", \"content\": command(\"take out the trash\")},\n",
    "            {\"role\": \"assistant\", \"content\": \"\"\"trash can:10,trash bag:6,dumpster:8,\"\"\"},\n",
    "            {\"role\": \"user\", \"content\": command(\"do the dishes\")},\n",
    "            {\"role\": \"assistant\", \"content\": \"\"\"dishes:10,sink:10,soap:9,sponge:5,drying rack:2\"\"\"},\n",
    "            {\"role\": \"user\", \"content\": command(task)},\n",
    "        ]\n",
    "        res = openai.ChatCompletion.create(\n",
    "            model=chat_lm_id,\n",
    "            messages=original_messages,\n",
    "            temperature=0.8\n",
    "        )\n",
    "        # print(res)\n",
    "        objects = res[\"choices\"][0][\"message\"][\"content\"]\n",
    "        objs_with_importance = []\n",
    "        for obj_with_score in objects.split(\",\"):\n",
    "            splitted = obj_with_score.split(\":\")\n",
    "            try:\n",
    "                objs_with_importance.append((splitted[0].lstrip(\" \"), int(splitted[1])))\n",
    "            except:\n",
    "                raise ValueError(f\"improper format: {obj_with_score}\")\n",
    "            \n",
    "        return objs_with_importance\n",
    "    \n",
    "    for _ in range(10):\n",
    "        try:\n",
    "            return run_query()\n",
    "        except:\n",
    "            continue\n",
    "    \n",
    "    return []"
   ]
  },
  {
   "cell_type": "code",
   "execution_count": 10,
   "metadata": {},
   "outputs": [
    {
     "data": {
      "text/plain": [
       "[('bed', 10), ('blanket', 6), ('pillow', 6)]"
      ]
     },
     "execution_count": 10,
     "metadata": {},
     "output_type": "execute_result"
    }
   ],
   "source": [
    "get_objects_needed(\"go to bed\")"
   ]
  },
  {
   "attachments": {},
   "cell_type": "markdown",
   "metadata": {},
   "source": [
    "Now we have the objects we need, our next task is to see if we see similar objects. we can find the objects in the scene and compare these text embeddings to the objects we have. \n",
    "\n",
    "If we see all the objects (similar beyond a threshold), we ask the model to generate a plan with these specific objects. \n",
    "\n",
    "Otherwise, we tell the model what we can't find and see if we can still perform the task. "
   ]
  },
  {
   "cell_type": "code",
   "execution_count": 91,
   "metadata": {},
   "outputs": [],
   "source": [
    "chat_lm_id = \"gpt-3.5-turbo\"\n",
    "translation_lm_id = \"text-embedding-ada-002\"\n",
    "system_message=\"\"\"\n",
    "You are a large language model for planning a robot's movements to achieve a given task. \n",
    "The user will provide you with a task and you will instruct the user (a robot) to perform the task.\n",
    "The robot may move to an object, pick it up, or place it in a new location.\n",
    "The robot may also move to a location, and place an object there.\n",
    "Give a command in the form of \"move to <object> and pick up <object> and place it in <object>\".\n",
    "Objects: trash can, cup, table, trash, dumpster, table\n",
    "\"\"\"\n",
    "original_messages = [\n",
    "    {\"role\": \"system\", \"content\": system_message},\n",
    "    {\"role\": \"user\", \"content\": \"Take out the trash.\"},\n",
    "    {\"role\": \"assistant\", \"content\": \"\"\"\n",
    "    1. Move to the trash can\n",
    "    2. Pick up the trash\n",
    "    3. Move to the dumpster\n",
    "    4. Place the trash in the dumpster\n",
    "    \"\"\"},\n",
    "    {\"role\": \"user\", \"content\": \"You have 10 cups. Arrange them to form a circle. give step by step instructions for each cup\"},\n",
    "]"
   ]
  },
  {
   "cell_type": "code",
   "execution_count": 11,
   "metadata": {},
   "outputs": [],
   "source": [
    "original_messages.append(res_message.to_dict())\n",
    "original_messages.append({\n",
    "    \"role\": \"user\",\n",
    "    \"content\": \"Where can I find the trash can. I am currently in the bathroom.\"\n",
    "})"
   ]
  },
  {
   "cell_type": "code",
   "execution_count": 6,
   "metadata": {},
   "outputs": [],
   "source": [
    "res2 = openai.ChatCompletion.create(\n",
    "    model=chat_lm_id,\n",
    "    messages=original_messages\n",
    ")"
   ]
  }
 ],
 "metadata": {
  "kernelspec": {
   "display_name": "robo",
   "language": "python",
   "name": "python3"
  },
  "language_info": {
   "codemirror_mode": {
    "name": "ipython",
    "version": 3
   },
   "file_extension": ".py",
   "mimetype": "text/x-python",
   "name": "python",
   "nbconvert_exporter": "python",
   "pygments_lexer": "ipython3",
   "version": "3.10.9"
  },
  "orig_nbformat": 4,
  "vscode": {
   "interpreter": {
    "hash": "2db547b6487defdb6942351c85a36a72a86c4b82b1aeea55af36ee5c65239abc"
   }
  }
 },
 "nbformat": 4,
 "nbformat_minor": 2
}
