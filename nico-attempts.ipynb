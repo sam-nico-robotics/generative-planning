{
 "cells": [
  {
   "cell_type": "code",
   "execution_count": 1,
   "metadata": {},
   "outputs": [],
   "source": [
    "import openai\n",
    "import os\n",
    "openai.api_key = os.getenv(\"OPENAI_API_KEY\")"
   ]
  },
  {
   "cell_type": "code",
   "execution_count": 13,
   "metadata": {},
   "outputs": [],
   "source": [
    "prompt = \"\"\"\n",
    "Provide the sequence of steps needed to complete the task. \n",
    "You must answer the following questions about the task: \n",
    "1. What object is required for this task (give only the object)\n",
    "2. Is this object typically found on a wall, the ceiling, the floor, or on another object?\n",
    "3. Iff typically found on another object, what object (give only the object); otherwise, return \"n/a\"?\n",
    "4. What action should I commit on the object (respond with one of use the actions \"move\", \"push\", \"pull\", \"grab\").\n",
    "5. If move, where to? If push or pull, in what direction (give \"up\", \"down\", \"right\", \"left\", \"forward\", \"backwards\") and for what distance (give in \"inches\")?\n",
    "\n",
    "Human: Open the fridge.\n",
    "\n",
    "Steps:\n",
    "1. The fridge handle.\n",
    "2. The floor.\n",
    "3. n/a\n",
    "4. Pull.\n",
    "5. Backwards. 24 inches.\n",
    "\n",
    "Human: Kick a ball.\n",
    "\n",
    "Steps:\n",
    "1. The ball.\n",
    "2. The floor.\n",
    "3. n/a\n",
    "4. Push.\n",
    "5. Forward. 5 feet.\n",
    "\n",
    "Human: turn on the lights\n",
    "\"\"\"\n",
    "res = openai.Completion.create(\n",
    "    model=\"text-davinci-003\",\n",
    "    prompt=prompt,\n",
    "    n=1,\n",
    "    temperature=1,\n",
    "    max_tokens=200\n",
    ")"
   ]
  },
  {
   "cell_type": "code",
   "execution_count": 11,
   "metadata": {},
   "outputs": [
    {
     "name": "stdout",
     "output_type": "stream",
     "text": [
      "\n",
      "Steps:\n",
      "1. The light switch.\n",
      "2. The wall.\n",
      "3. n/a\n",
      "4. Push.\n",
      "5. Down. 1 inch.\n"
     ]
    },
    {
     "data": {
      "text/plain": [
       "[<OpenAIObject at 0x107ca4720> JSON: {\n",
       "   \"finish_reason\": \"stop\",\n",
       "   \"index\": 0,\n",
       "   \"logprobs\": null,\n",
       "   \"text\": \"\\nSteps:\\n1. The light switch.\\n2. The wall.\\n3. n/a\\n4. Push.\\n5. Down. 1 inch.\"\n",
       " }]"
      ]
     },
     "execution_count": 11,
     "metadata": {},
     "output_type": "execute_result"
    }
   ],
   "source": [
    "for c in res.choices:\n",
    "    print(c.text)\n",
    "res.choices"
   ]
  }
 ],
 "metadata": {
  "interpreter": {
   "hash": "ca38aa8205e004500b732653f384033731b05e2afb5c3fafaeeccb572b9108ec"
  },
  "kernelspec": {
   "display_name": "Python 3.10.6 ('venv': venv)",
   "language": "python",
   "name": "python3"
  },
  "language_info": {
   "codemirror_mode": {
    "name": "ipython",
    "version": 3
   },
   "file_extension": ".py",
   "mimetype": "text/x-python",
   "name": "python",
   "nbconvert_exporter": "python",
   "pygments_lexer": "ipython3",
   "version": "3.10.6"
  },
  "orig_nbformat": 4
 },
 "nbformat": 4,
 "nbformat_minor": 2
}
